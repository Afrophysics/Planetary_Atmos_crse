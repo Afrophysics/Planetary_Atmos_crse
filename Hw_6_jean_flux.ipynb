{
 "cells": [
  {
   "cell_type": "markdown",
   "metadata": {
    "collapsed": true
   },
   "source": [
    "# HW 6\n",
    "\n",
    "# Jean and Atmospheric Escape\n",
    "\n",
    "### Jesus Javier Serrano"
   ]
  },
  {
   "cell_type": "code",
   "execution_count": 4,
   "metadata": {},
   "outputs": [
    {
     "name": "stdout",
     "output_type": "stream",
     "text": [
      "The planet GJ436b has a mass of 1.092e+26 kg\n",
      "The Jean parameter and Jean escape rate for Hydrogen is 4.280 and 1.747e+18 m^-2 s^-1\n",
      "The Jean parameter and Jean escape rate for Helium is 13.999 and 1.454e+13 m^-2 s^-1\n",
      "2.684e+17 kg of Hydrogen escaped from the atmosphere of the planet\n",
      "8.853e+12 kg of Helium escaped from the atmosphere of the planet\n",
      "The ratio of escaped Hydrogen mass to planetary mass is 2.457e-09\n",
      "The ratio of escaped Helium mass to planetary mass is 8.105e-14\n",
      "The diffusion-limited flux for Hydrogen is calculated to be: 1.107e+16 m^-2 s^-1 which is 0.006 times the Jean flux\n",
      "The diffusion-limited flux for Helium is calculated to be: 4.259e+15 m^-2 s^-1  which is 292.957 times the Jean flux\n",
      "1.701e+15 kg of Hydrogen escaped from the atmosphere of the planet\n",
      "2.594e+15 kg of Helium escaped from the atmosphere of the planet\n",
      "The ratio of escaped Hydrogen mass to planetary mass is 1.558e-11\n",
      "The ratio of escaped Helium mass to planetary mass is 2.375e-11\n"
     ]
    }
   ],
   "source": [
    "import numpy as np\n",
    "import scipy as sc\n",
    "\n",
    "#Define the parameters\n",
    "T_exo = 1e4 #kelvi\n",
    "P_exo = 1e-3 #Pa\n",
    "orb_rad = 0.03*(149.6)*1000\n",
    "vol_rad = 2.7e7\n",
    "g_pl = 10\n",
    "m_H = 1.01/(6.022e23)/(1000)\n",
    "m_He = 4.003/(6.022e23)/(1000)\n",
    "k_b = 1.38064852e-23 #J/k\n",
    "R = 8.314 #J/(K*mol) = Pa *m^3/(k*mol)\n",
    "G = 6.67408e-11 #grav constant\n",
    "\n",
    "#Define the Jean's parameter(v_esc/v_o)^2\n",
    "def lam_esc(m):\n",
    "    a = m*g_pl*(vol_rad + ((R*T_exo)/(m*(6.022e23)*g_pl)))\n",
    "    b = k_b*T_exo\n",
    "    return a/b\n",
    "#Define the Jean's escape rate\n",
    "def psi_j(m, N_ex):\n",
    "    max_vel = (2*k_b*T_exo/m)**0.5\n",
    "    front = N_ex*max_vel/(2*(np.pi**0.5))\n",
    "    expo_term = (1 + lam_esc(m))*np.exp(-lam_esc(m))\n",
    "    return front*expo_term\n",
    "\n",
    "#Given the above parameters how do we find the number denisty of Hydrogen and Helium?\n",
    "N_exo = P_exo/(R*T_exo)*(6.022e23)\n",
    "N_H_exo = N_exo/1.09705\n",
    "N_He_exo = 0.09705*N_H_exo\n",
    "\n",
    "class GJ436b:\n",
    "    def __init__(self, H_quality, He_quality, mass):\n",
    "        self.H_quality = H_quality\n",
    "        self.He_quality = He_quality\n",
    "        self.mass = mass\n",
    "H_prop = {}\n",
    "He_prop = {}\n",
    "part_lis = ['H', 'He']\n",
    "for atom in part_lis:\n",
    "    mass = 'm_%s'%atom\n",
    "    plug = '%s_prop'%atom\n",
    "    dens = 'N_%s_exo'%atom\n",
    "    jean_param = lam_esc(eval(mass))\n",
    "    jean_flux = psi_j(eval(mass), eval(dens))\n",
    "    properties = eval(plug)\n",
    "    properties['mass'] = eval(mass) #in kilograms\n",
    "    properties['j_param'] = jean_param\n",
    "    properties['j_flux'] = jean_flux\n",
    "\n",
    "GJ436b.H_quality= H_prop\n",
    "GJ436b.He_quality= He_prop\n",
    "plan_mass = g_pl*((vol_rad)**2)/G\n",
    "GJ436b.mass = plan_mass\n",
    "\n",
    "\n",
    "#answer\n",
    "print('The planet GJ436b has a mass of %.3e kg'%GJ436b.mass)\n",
    "print('The Jean parameter and Jean escape rate for Hydrogen is %.3f and %.3e m^-2 s^-1'%(GJ436b.H_quality['j_param'], GJ436b.H_quality['j_flux']))\n",
    "print('The Jean parameter and Jean escape rate for Helium is %.3f and %.3e m^-2 s^-1'%(GJ436b.He_quality['j_param'], GJ436b.He_quality['j_flux']))\n",
    "\n",
    "#approximation of total escaped Hydrogen and Helium\n",
    "dead_m_H =  GJ436b.H_quality['j_flux']*4*np.pi*(vol_rad**2)*(10**10)*m_H\n",
    "dead_m_He =  GJ436b.He_quality['j_flux']*4*np.pi*(vol_rad**2)*(10**10)*m_He\n",
    "\n",
    "print('%.3e kg of Hydrogen escaped from the atmosphere of the planet'%dead_m_H)\n",
    "print('%.3e kg of Helium escaped from the atmosphere of the planet'%dead_m_He)\n",
    "ratio_m_H = dead_m_H/GJ436b.mass\n",
    "ratio_m_He = dead_m_He/GJ436b.mass\n",
    "print('The ratio of escaped Hydrogen mass to planetary mass is %.3e'%ratio_m_H)\n",
    "print('The ratio of escaped Helium mass to planetary mass is %.3e'%ratio_m_He)\n",
    "\n",
    "#Find the diffusion-limited escape\n",
    "b = 1e23 #m^-1 s^-1\n",
    "#mole-fraction of the gases\n",
    "mf_H = 1/1.09705\n",
    "mf_He = 0.09705/1.09705\n",
    "#the flux\n",
    "def diff_lim(m, chi):\n",
    "    top = b*m*g_pl*chi\n",
    "    bott = k_b*T_exo\n",
    "    return top/bott\n",
    "\n",
    "lim_esc_H = diff_lim(m_H, mf_H)\n",
    "ratio_H_esc = lim_esc_H/GJ436b.H_quality['j_flux']\n",
    "lim_esc_He = diff_lim(m_He, mf_He)\n",
    "ratio_He_esc = lim_esc_He/GJ436b.He_quality['j_flux']\n",
    "print('The diffusion-limited flux for Hydrogen is calculated to be: %.3e m^-2 s^-1 which is %.3f times the Jean flux'%(lim_esc_H, ratio_H_esc))\n",
    "print('The diffusion-limited flux for Helium is calculated to be: %.3e m^-2 s^-1  which is %.3f times the Jean flux'%(lim_esc_He, ratio_He_esc))\n",
    "\n",
    "#approximation of total escaped Hydrogen and Helium\n",
    "lim_dead_m_H =  lim_esc_H*4*np.pi*(vol_rad**2)*(10**10)*m_H\n",
    "lim_dead_m_He =  lim_esc_He*4*np.pi*(vol_rad**2)*(10**10)*m_He\n",
    "\n",
    "print('%.3e kg of Hydrogen escaped from the atmosphere of the planet'%lim_dead_m_H)\n",
    "print('%.3e kg of Helium escaped from the atmosphere of the planet'%lim_dead_m_He)\n",
    "lim_ratio_m_H = lim_dead_m_H/GJ436b.mass\n",
    "lim_ratio_m_He = lim_dead_m_He/GJ436b.mass\n",
    "print('The ratio of escaped Hydrogen mass to planetary mass is %.3e'%lim_ratio_m_H)\n",
    "print('The ratio of escaped Helium mass to planetary mass is %.3e'%lim_ratio_m_He)"
   ]
  },
  {
   "cell_type": "markdown",
   "metadata": {},
   "source": [
    "After obtaining the proper mass flux of Hydrogen and Helium escaping from the atmosphere we may approximate the atmosphere mass and pressure of GJ 436b. If we assume that the current atmosphere of this planet is 99.9% Helium then the total mass of the current atmosphere may be calculated by using the column density equation. Since we know that for an Ideal gas the column density $c\\rho$ with the column base located at $z_o$ is defined as:\n",
    "$$c\\rho = \\int_{z_o}^{\\infty} N(z) dz = N(z_o)H$$\n",
    "where $H = \\frac{RT}{m_{atm} g_{pl}}$ is the height scale $N(z)$ is the number density of the air molecules defined as:\n",
    "$$N(z) = N_o e^{\\frac{-z}{H}}$$\n",
    "where $N_o$ is the number density of air molecules from the surface. With this definition we can decipher the column density with the base of the column being the surface by noting that $N(z_o) = N_o e^{-1}$. Let us make $z_o$ be the height of exobase so $N(z_o) = N_{ex}$ thus $N_o = N_{ex}e$ . Since $H$ is a function of the mass of the atmosphere then:\n",
    "$$m_{atm} = m_{atm}^w n_{atm}$$\n",
    "where $m_{atm}^w = m_{He}^W/0.999$ is the molar mass of air which can be found with the molar mass of Helium, and $n_{atm} = \\frac{N_{ex}e H (4 \\pi R_{vol}^2)}{6.022X10^{23}}$ is the number of moles present in the atmosphere, then:\n",
    "$$m_{atm} = \\sqrt{\\frac{m_{He}^W}{0.999} \\frac{N_{ex}e RT(4 \\pi R_{vol}^2)}{g_{pl} 6.022X10^{23}}}$$"
   ]
  },
  {
   "cell_type": "code",
   "execution_count": 9,
   "metadata": {},
   "outputs": [
    {
     "name": "stdout",
     "output_type": "stream",
     "text": [
      "The present mass of the atmosphere is 9.989e+04 kg\n",
      "The primordial mass of the atmosphere is 1.710e+15 kg\n",
      "Primordial mass density ratio is 0.99 : 0.01\n",
      "The primordial surface pressure of the atmosphere is 5.096e+42 Pa assuming no temperature gradient and a time-invariant temperature\n",
      "The primordial surface pressure of the atmosphere with solar composition is 3.992e+42 Pa assuming no temperature gradient and a time-invariant temperature\n",
      "The present surface pressure of the atmosphere is 4.457e+21 Pa assuming no temperature gradient and a time-invariant temperature\n"
     ]
    }
   ],
   "source": [
    "#Look into the promordial atmosphere\n",
    "dead_dif_m_H = lim_esc_H*4*np.pi*(vol_rad**2)*(10**10)*m_H\n",
    "dead_dif_m_He = GJ436b.He_quality['j_flux']*4*np.pi*(vol_rad**2)*(10**10)*m_He\n",
    "\n",
    "#mass of the atmosphere as an approximation\n",
    "present_mass_atm = (((4.003/(1000*(6.022e23)))*N_exo*np.e*4*np.pi*(vol_rad**2)*R*T_exo/(g_pl))/0.999)**0.5 #kg\n",
    "print('The present mass of the atmosphere is %.3e kg'%present_mass_atm)\n",
    "primor_mass_atm = present_mass_atm + dead_dif_m_H + dead_dif_m_He #kg\n",
    "print('The primordial mass of the atmosphere is %.3e kg'%primor_mass_atm)\n",
    "\n",
    "#Mass fraction of Hydrogen and Helium in the primordial case:\n",
    "primor_mass_frac_He = (0.999*present_mass_atm + dead_dif_m_He)/primor_mass_atm\n",
    "primor_mass_frac_H = (0.001*present_mass_atm + dead_dif_m_H)/primor_mass_atm\n",
    "print('Primordial mass density ratio is %.2f : %.2f'%(primor_mass_frac_H, primor_mass_frac_He))\n",
    "#assuming ideal gas we can apply the exponential law to the pressure profile of the atmoshpere\n",
    "primor_pressure_surf = primor_mass_atm*np.e*R*T_exo/(((primor_mass_frac_He*m_He) + primor_mass_frac_H *m_H) *4*np.pi*(vol_rad**2)*R*T_exo/(g_pl*primor_mass_atm))\n",
    "solar_corrected_pressure_surf = primor_mass_atm*np.e*R*T_exo/(((0.1*m_He) + 0.9 *m_H) *4*np.pi*(vol_rad**2)*R*T_exo/(g_pl*primor_mass_atm))\n",
    "print('The primordial surface pressure of the atmosphere is %.3e Pa assuming no temperature gradient and a time-invariant temperature'%primor_pressure_surf)\n",
    "print('The primordial surface pressure of the atmosphere with solar composition is %.3e Pa assuming no temperature gradient and a time-invariant temperature'%solar_corrected_pressure_surf)\n",
    "present_pressure_surf = present_mass_atm*np.e*R*T_exo/(((0.999*m_He) + 0.001*m_H) *4*np.pi*(vol_rad**2)*R*T_exo/(g_pl*present_mass_atm))\n",
    "print('The present surface pressure of the atmosphere is %.3e Pa assuming no temperature gradient and a time-invariant temperature'%present_pressure_surf)\n",
    "\n"
   ]
  },
  {
   "cell_type": "code",
   "execution_count": null,
   "metadata": {
    "collapsed": true
   },
   "outputs": [],
   "source": []
  }
 ],
 "metadata": {
  "kernelspec": {
   "display_name": "Python 3",
   "language": "python",
   "name": "python3"
  },
  "language_info": {
   "codemirror_mode": {
    "name": "ipython",
    "version": 3
   },
   "file_extension": ".py",
   "mimetype": "text/x-python",
   "name": "python",
   "nbconvert_exporter": "python",
   "pygments_lexer": "ipython3",
   "version": "3.6.7"
  }
 },
 "nbformat": 4,
 "nbformat_minor": 2
}
